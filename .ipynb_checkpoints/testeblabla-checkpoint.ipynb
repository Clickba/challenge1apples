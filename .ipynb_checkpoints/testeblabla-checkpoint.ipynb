{
 "cells": [
  {
   "cell_type": "code",
   "execution_count": null,
   "id": "2d474428",
   "metadata": {},
   "outputs": [],
   "source": [
    "import warnings;\n",
    "warnings.simplefilter('ignore');\n",
    "import pandas as pd\n",
    "from matplotlib import pyplot as plt\n",
    "import numpy as np"
   ]
  },
  {
   "cell_type": "code",
   "execution_count": 3,
   "id": "5ed0617f",
   "metadata": {},
   "outputs": [
    {
     "name": "stdout",
     "output_type": "stream",
     "text": [
      "       Unnamed: 0        date  average_price  total_volume    gala      fuji  \\\n",
      "0               0  27/12/2015           1.33       6423662  103674   5445485   \n",
      "1               1  20/12/2015           1.35       5487698   67428   4463881   \n",
      "2               2  13/12/2015           0.93      11822022   79470  10914967   \n",
      "3               3  06/12/2015           1.08       7899215  113200   7197641   \n",
      "4               4  29/11/2015           1.28       5103960   94148   4383839   \n",
      "...           ...         ...            ...           ...     ...       ...   \n",
      "18244           7  04/02/2018           1.63       1707483  204696    152920   \n",
      "18245           8  28/01/2018           1.71       1388804  119170    343150   \n",
      "18246           9  21/01/2018           1.87       1376676  119192    245279   \n",
      "18247          10  14/01/2018           1.93       1620522  152763    298104   \n",
      "18248          11  07/01/2018           1.62       1748958  289477    235613   \n",
      "\n",
      "       granny_smith  total_bags   s_bags  l_bags  xl_bags          type  \\\n",
      "0              4816      869687   860362    9325        0  conventional   \n",
      "1              5833      950556   940807    9749        0  conventional   \n",
      "2             13050      814535   804221   10314        0  conventional   \n",
      "3              7258      581116   567740   13376        0  conventional   \n",
      "4              7578      618395   598626   19769        0  conventional   \n",
      "...             ...         ...      ...     ...      ...           ...   \n",
      "18244             0     1349867  1306682   43185        0       organic   \n",
      "18245             0      926484   894004   32480        0       organic   \n",
      "18246         72794      939411   935180    4231        0       organic   \n",
      "18247         72701     1096954  1091954    5000        0       organic   \n",
      "18248         22453     1201415  1198814    2601        0       organic   \n",
      "\n",
      "                 region  \n",
      "0                Albany  \n",
      "1                Albany  \n",
      "2                Albany  \n",
      "3                Albany  \n",
      "4                Albany  \n",
      "...                 ...  \n",
      "18244  WestTexNewMexico  \n",
      "18245  WestTexNewMexico  \n",
      "18246  WestTexNewMexico  \n",
      "18247  WestTexNewMexico  \n",
      "18248  WestTexNewMexico  \n",
      "\n",
      "[18249 rows x 13 columns]\n"
     ]
    }
   ],
   "source": [
    "data = pd.read_csv('apples.csv',on_bad_lines='skip', delimiter=\";\")\n",
    "print(data)"
   ]
  },
  {
   "cell_type": "code",
   "execution_count": null,
   "id": "190d09db",
   "metadata": {},
   "outputs": [],
   "source": []
  }
 ],
 "metadata": {
  "kernelspec": {
   "display_name": "Python 3 (ipykernel)",
   "language": "python",
   "name": "python3"
  },
  "language_info": {
   "codemirror_mode": {
    "name": "ipython",
    "version": 3
   },
   "file_extension": ".py",
   "mimetype": "text/x-python",
   "name": "python",
   "nbconvert_exporter": "python",
   "pygments_lexer": "ipython3",
   "version": "3.9.12"
  },
  "vscode": {
   "interpreter": {
    "hash": "ad2bdc8ecc057115af97d19610ffacc2b4e99fae6737bb82f5d7fb13d2f2c186"
   }
  }
 },
 "nbformat": 4,
 "nbformat_minor": 5
}
